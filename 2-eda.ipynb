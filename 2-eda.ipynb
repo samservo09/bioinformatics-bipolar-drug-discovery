{
  "cells": [
    {
      "cell_type": "markdown",
      "metadata": {
        "id": "QdTc4piw4azs"
      },
      "source": [
        "# Bioinformatics: Drug discovery on CaM-kinase kinase beta protein"
      ]
    },
    {
      "cell_type": "markdown",
      "metadata": {
        "id": "vP3GnaTb4azv"
      },
      "source": [
        "## Install necessary packages/libraries"
      ]
    },
    {
      "cell_type": "code",
      "source": [
        "# install conda and rdkit\n",
        "! wget https://repo.anaconda.com/miniconda/Miniconda\n",
        ""
      ],
      "metadata": {
        "id": "RHFwo-No5y7n"
      },
      "execution_count": null,
      "outputs": []
    }
  ],
  "metadata": {
    "language_info": {
      "name": "python"
    },
    "colab": {
      "provenance": []
    }
  },
  "nbformat": 4,
  "nbformat_minor": 0
}